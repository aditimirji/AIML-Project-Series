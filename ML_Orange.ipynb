{
  "nbformat": 4,
  "nbformat_minor": 0,
  "metadata": {
    "colab": {
      "provenance": [],
      "authorship_tag": "ABX9TyN35ThapjJ0TSKHrUSFUnBJ",
      "include_colab_link": true
    },
    "kernelspec": {
      "name": "python3",
      "display_name": "Python 3"
    },
    "language_info": {
      "name": "python"
    }
  },
  "cells": [
    {
      "cell_type": "markdown",
      "metadata": {
        "id": "view-in-github",
        "colab_type": "text"
      },
      "source": [
        "<a href=\"https://colab.research.google.com/github/aditimirji/AIML-Project-Series/blob/main/ML_Orange.ipynb\" target=\"_parent\"><img src=\"https://colab.research.google.com/assets/colab-badge.svg\" alt=\"Open In Colab\"/></a>"
      ]
    },
    {
      "cell_type": "code",
      "execution_count": 5,
      "metadata": {
        "id": "t1G8lu5nsZbH",
        "colab": {
          "base_uri": "https://localhost:8080/"
        },
        "outputId": "31ef3971-0b50-441d-c762-644cb03f3e6c"
      },
      "outputs": [
        {
          "output_type": "stream",
          "name": "stdout",
          "text": [
            "Subfolders in extracted_audio/Animals: ['bird', 'cat', 'dog']\n",
            "Searching for audio files in: extracted_audio/Animals\n",
            "Loaded 610 samples.\n",
            "Training Accuracy: 81.15%\n"
          ]
        }
      ],
      "source": [
        "import os\n",
        "import zipfile\n",
        "import librosa\n",
        "import numpy as np\n",
        "from sklearn.model_selection import train_test_split\n",
        "from sklearn.ensemble import RandomForestClassifier\n",
        "from sklearn.metrics import accuracy_score\n",
        "from sklearn.preprocessing import LabelEncoder\n",
        "\n",
        "# Step 1: Extract ZIP File\n",
        "def extract_zip(zip_file_path, extract_folder):\n",
        "    with zipfile.ZipFile(zip_file_path, 'r') as zip_ref:\n",
        "        zip_ref.extractall(extract_folder)\n",
        "\n",
        "# Step 2: Load Audio Files and Assign Labels (including subdirectories)\n",
        "def load_audio_files(folder):\n",
        "    labels = []\n",
        "    features = []\n",
        "    print(f\"Searching for audio files in: {folder}\")\n",
        "\n",
        "    # Walk through all subdirectories to find audio files\n",
        "    for root, _, files in os.walk(folder):\n",
        "        for file in files:\n",
        "            if file.endswith('.wav'):\n",
        "                # Determine the label based on the subdirectory name\n",
        "                if 'dog' in root.lower():\n",
        "                    label = 'dog'\n",
        "                elif 'cat' in root.lower():\n",
        "                    label = 'cat'\n",
        "                elif 'bird' in root.lower():\n",
        "                    label = 'bird'\n",
        "                else:\n",
        "                    continue  # Skip files that don't match the expected labels\n",
        "                labels.append(label)\n",
        "\n",
        "                # Load audio file and extract features using librosa\n",
        "                file_path = os.path.join(root, file)\n",
        "                y, sr = librosa.load(file_path, sr=None)\n",
        "\n",
        "                # Extract MFCC features\n",
        "                mfcc = librosa.feature.mfcc(y=y, sr=sr, n_mfcc=13)\n",
        "                mfcc_mean = np.mean(mfcc.T, axis=0)  # Average the MFCCs across time\n",
        "                features.append(mfcc_mean)\n",
        "\n",
        "    return np.array(features), np.array(labels)\n",
        "\n",
        "# Step 3: Preprocess Data (Encode labels)\n",
        "def preprocess_labels(labels):\n",
        "    label_encoder = LabelEncoder()\n",
        "    encoded_labels = label_encoder.fit_transform(labels)  # Convert to numeric labels\n",
        "    return encoded_labels, label_encoder\n",
        "\n",
        "# Step 4: Train Classifier\n",
        "def train_classifier(X_train, y_train):\n",
        "    classifier = RandomForestClassifier(n_estimators=100, random_state=42)\n",
        "    classifier.fit(X_train, y_train)\n",
        "    return classifier\n",
        "\n",
        "# Step 5: Evaluate Model\n",
        "def evaluate_model(classifier, X_test, y_test):\n",
        "    y_pred = classifier.predict(X_test)\n",
        "    accuracy = accuracy_score(y_test, y_pred)\n",
        "    return accuracy\n",
        "\n",
        "# Main Program\n",
        "if __name__ == \"__main__\":\n",
        "    # Define paths\n",
        "    zip_file_path = 'archive(1).zip'  # Replace with your zip file path\n",
        "    extract_folder = 'extracted_audio'  # Folder to extract the files to\n",
        "    animal_folder = os.path.join(extract_folder, 'Animals')  # Corrected folder name\n",
        "\n",
        "    # Step 1: Extract the zip file\n",
        "    extract_zip(zip_file_path, extract_folder)\n",
        "\n",
        "    # Check contents of the extracted folder\n",
        "    if os.path.exists(animal_folder):\n",
        "        print(f\"Subfolders in {animal_folder}: {os.listdir(animal_folder)}\")\n",
        "    else:\n",
        "        print(f\"Folder {animal_folder} does not exist!\")\n",
        "\n",
        "    # Step 2: Load audio files and extract features from 'Animals' subfolder\n",
        "    X, y = load_audio_files(animal_folder)\n",
        "    print(f\"Loaded {len(X)} samples.\")\n",
        "\n",
        "    if len(X) == 0:\n",
        "        print(\"No audio files found. Please check the folder and file paths.\")\n",
        "    else:\n",
        "        # Step 3: Preprocess labels\n",
        "        y, label_encoder = preprocess_labels(y)\n",
        "\n",
        "        # Step 4: Split the data into training and test sets\n",
        "        X_train, X_test, y_train, y_test = train_test_split(X, y, test_size=0.2, random_state=42)\n",
        "\n",
        "        # Step 5: Train the classifier\n",
        "        classifier = train_classifier(X_train, y_train)\n",
        "\n",
        "        # Step 6: Evaluate the model\n",
        "        accuracy = evaluate_model(classifier, X_test, y_test)\n",
        "\n",
        "        # Print results\n",
        "        print(f\"Training Accuracy: {accuracy * 100:.2f}%\")\n",
        "\n",
        "\n",
        "\n"
      ]
    }
  ]
}